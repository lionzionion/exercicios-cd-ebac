{
  "cells": [
    {
      "cell_type": "markdown",
      "metadata": {
        "id": "bhexng2CnqAb"
      },
      "source": [
        "# Tarefa 01\n",
        "\n",
        "- Leia os enunciados com atenção\n",
        "- Saiba que pode haver mais de uma resposta correta\n",
        "- Insira novas células de código sempre que achar necessário\n",
        "- Em caso de dúvidas, procure os tutores\n",
        "- Divirta-se :)\n",
        "\n",
        "#### 1)  crie uma série do pandas a partir de uma lista com os dados abaixo:\n",
        "\n",
        "Em um estudo sobre alteração na tempreatura global, A NASA disponibiliza dados de diferenças de de temperatura média da superfície terrestre relativos às médias de temperatura entre 1951 e 1980. Os dados originais podem ser vistos no site da NASA/GISS, e estão dispostos a cada década na tabela abaixo.\n",
        "\n",
        "|ano|anomalia termica|\n",
        "|:-:|:----:|\n",
        "| 1900 | -0.08 |\n",
        "| 1920 | -0.27 |\n",
        "| 1940 | 0.12 |\n",
        "| 1960 | -0.03 |\n",
        "| 1980 | 0.26 |\n",
        "| 2000 | 0.40 |\n",
        "| 2020 | 1.02 |\n",
        "\n",
        "Crie uma séries do Pandas a partir de uma lista com esses dados."
      ]
    },
    {
      "cell_type": "code",
      "execution_count": 3,
      "metadata": {
        "colab": {
          "base_uri": "https://localhost:8080/"
        },
        "id": "GqI5XpjXnqAe",
        "outputId": "3c5a8de9-731b-4b3e-b151-db4bbc425f20"
      },
      "outputs": [
        {
          "output_type": "stream",
          "name": "stdout",
          "text": [
            "    ano  anomalia_termica\n",
            "0  1900             -0.08\n",
            "1  1920             -0.27\n",
            "2  1940              0.12\n",
            "3  1960             -0.03\n",
            "4  1980              0.26\n",
            "5  2000              0.40\n",
            "6  2020              1.02\n"
          ]
        }
      ],
      "source": [
        "import pandas as pd\n",
        "import numpy as np\n",
        "\n",
        "\n",
        "# Dados fornecidos\n",
        "dados = {\n",
        "    'ano': [1900, 1920, 1940, 1960, 1980, 2000, 2020],\n",
        "    'anomalia_termica': [-0.08, -0.27, 0.12, -0.03, 0.26, 0.40, 1.02]\n",
        "}\n",
        "\n",
        "# Criar a série do pandas\n",
        "serie_temperatura = pd.DataFrame(dados)\n",
        "\n",
        "# Exibir a série\n",
        "print(serie_temperatura)\n"
      ]
    },
    {
      "cell_type": "markdown",
      "metadata": {
        "id": "tQVTiUQvnqAf"
      },
      "source": [
        "#### 2) Coloque os anos nos índices conforme a tabela."
      ]
    },
    {
      "cell_type": "code",
      "execution_count": 5,
      "metadata": {
        "colab": {
          "base_uri": "https://localhost:8080/"
        },
        "id": "MSk_MvkOnqAf",
        "outputId": "0ff31714-c7bd-456f-a0de-bb4e1b8fb671"
      },
      "outputs": [
        {
          "output_type": "stream",
          "name": "stdout",
          "text": [
            "1900   -0.08\n",
            "1920   -0.27\n",
            "1940    0.12\n",
            "1960   -0.03\n",
            "1980    0.26\n",
            "2000    0.40\n",
            "2020    1.02\n",
            "Name: anomalia_termica, dtype: float64\n"
          ]
        }
      ],
      "source": [
        "# Dados fornecidos\n",
        "dados = {\n",
        "    'anomalia_termica': [-0.08, -0.27, 0.12, -0.03, 0.26, 0.40, 1.02]\n",
        "}\n",
        "\n",
        "# Índices (anos)\n",
        "anos = [1900, 1920, 1940, 1960, 1980, 2000, 2020]\n",
        "\n",
        "# Criar a série do pandas com os anos como índices\n",
        "serie_temperatura = pd.Series(dados['anomalia_termica'], index=anos, name='anomalia_termica')\n",
        "\n",
        "# Exibir a série\n",
        "print(serie_temperatura)\n"
      ]
    },
    {
      "cell_type": "markdown",
      "metadata": {
        "id": "TcRSBb-EnqAf"
      },
      "source": [
        "#### 3) A partir do dicionário abaixo, crie uma séries do Pandas:"
      ]
    },
    {
      "cell_type": "code",
      "execution_count": 7,
      "metadata": {
        "colab": {
          "base_uri": "https://localhost:8080/"
        },
        "id": "8jDd8nGjnqAf",
        "outputId": "ce5003e8-8a42-40d7-99d7-7a97b7edacdd"
      },
      "outputs": [
        {
          "output_type": "stream",
          "name": "stdout",
          "text": [
            "1900   -0.08\n",
            "1920   -0.27\n",
            "1940    0.12\n",
            "1960   -0.03\n",
            "1980    0.26\n",
            "2000    0.40\n",
            "2020    1.02\n",
            "Name: anomalia_termica, dtype: float64\n"
          ]
        }
      ],
      "source": [
        "dic_temperaturas = {1900: -.08, 1920: -.27, 1940: .12, 1960: -.03, 1980: .26, 2000: .40, 2020: 1.02}\n",
        "\n",
        "\n",
        "# Dicionário fornecido\n",
        "dic_temperaturas = {1900: -0.08, 1920: -0.27, 1940: 0.12, 1960: -0.03, 1980: 0.26, 2000: 0.40, 2020: 1.02}\n",
        "\n",
        "# Criar a série do pandas\n",
        "serie_temperaturas = pd.Series(dic_temperaturas, name='anomalia_termica')\n",
        "\n",
        "# Exibir a série\n",
        "print(serie_temperaturas)"
      ]
    },
    {
      "cell_type": "markdown",
      "metadata": {
        "id": "JS_7JiDtnqAg"
      },
      "source": [
        "#### 4) Transforme o ndarray abaixo em um dataframe.\n",
        "O numpy é capaz de gerar arrays n-dimensionais com números pseudo-aleatórios de acordo com uma variedade de distribuições, como no exemplo abaixo. Transforme esse nd-array em um DataFrame."
      ]
    },
    {
      "cell_type": "code",
      "execution_count": 8,
      "metadata": {
        "colab": {
          "base_uri": "https://localhost:8080/"
        },
        "id": "M5c_NrKgnqAg",
        "outputId": "e7b7e2ee-0905-40ca-caca-d25f5a308072"
      },
      "outputs": [
        {
          "output_type": "stream",
          "name": "stdout",
          "text": [
            "       Coluna1     Coluna2     Coluna3\n",
            "0    85.277720  113.196763   98.857060\n",
            "1    97.567115   95.871973   90.741845\n",
            "2    85.336232  111.211516  101.037916\n",
            "3   103.304835  110.125090  101.832576\n",
            "4   106.126527  108.601722  124.251470\n",
            "5   108.445057  103.060798  103.785102\n",
            "6   109.986323  101.266321   97.314568\n",
            "7    97.382393  110.835565  116.749134\n",
            "8   103.313753  100.405534  115.948942\n",
            "9   105.959334   88.525014   91.842807\n",
            "10   91.624892  101.572185  120.605390\n",
            "11   94.975494  103.799407  102.764745\n",
            "12  114.151247  100.729145   85.851577\n",
            "13  111.217754   98.644148  115.094759\n",
            "14   98.236618   95.185433  102.179249\n",
            "15  125.045044  106.819333  113.903867\n",
            "16  130.956747   87.442701  105.875334\n",
            "17   99.606496   96.193847   94.801651\n",
            "18   75.735217  104.762078  117.976781\n",
            "19   93.806392   98.400106   99.871414\n"
          ]
        }
      ],
      "source": [
        "# ndarray\n",
        "arr = np.random.normal(100, 10, (20, 3))\n",
        "\n",
        "# Transformar o ndarray em um DataFrame\n",
        "dataframe = pd.DataFrame(arr, columns=['Coluna1', 'Coluna2', 'Coluna3'])\n",
        "\n",
        "# Exibir o DataFrame\n",
        "print(dataframe)\n"
      ]
    },
    {
      "cell_type": "markdown",
      "metadata": {
        "id": "or15L2T6nqAg"
      },
      "source": [
        "#### 5) Nomeie os índices das linhas com inteiros de 1 a 20, e as colunas com os nomes \"x1\", \"x2\", e \"x3\" respectivamente."
      ]
    },
    {
      "cell_type": "code",
      "execution_count": 9,
      "metadata": {
        "colab": {
          "base_uri": "https://localhost:8080/"
        },
        "id": "NNJr0N3NnqAh",
        "outputId": "8756aba1-1027-4b5f-b307-8ac5bfaaebe7"
      },
      "outputs": [
        {
          "output_type": "stream",
          "name": "stdout",
          "text": [
            "            x1          x2          x3\n",
            "1   103.279458  102.262096  108.243778\n",
            "2   101.597933   77.467532   89.172006\n",
            "3   101.723378  118.037774   75.795594\n",
            "4   110.687918   84.883652  103.967708\n",
            "5   103.842968  102.779861  105.099876\n",
            "6   102.550833   95.714584  100.085245\n",
            "7    97.445670  102.664404   92.456869\n",
            "8   104.458313   93.531783   96.426677\n",
            "9    87.012445  112.716337  102.348751\n",
            "10  107.940542  102.946440  100.168814\n",
            "11   97.903041  100.289692   86.910090\n",
            "12  109.146246   89.604318  117.951674\n",
            "13  102.330521  102.416469   99.249375\n",
            "14   99.754468  103.065296  113.870873\n",
            "15   94.471200   95.551984  112.751726\n",
            "16   88.828198  103.364278   97.735673\n",
            "17  113.402188  104.747654  116.181511\n",
            "18  101.907745   74.083354  113.911444\n",
            "19  114.661811   92.950629   79.126046\n",
            "20  105.735705   85.903303   96.911293\n"
          ]
        }
      ],
      "source": [
        "# ndarrayx1x2x3\n",
        "arr = np.random.normal(100, 10, (20, 3))\n",
        "\n",
        "# Transformar o ndarray em um DataFrame com índices e colunas nomeadas\n",
        "dataframe = pd.DataFrame(arr, columns=['x1', 'x2', 'x3'])\n",
        "dataframe.index = range(1, 21)  # Nomear os índices das linhas de 1 a 20\n",
        "\n",
        "# Exibir o DataFrame\n",
        "print(dataframe)"
      ]
    },
    {
      "cell_type": "markdown",
      "metadata": {
        "id": "xP249ZcvnqAh"
      },
      "source": [
        "#### 6) No DataFrame do exercício 5, crie uma nova coluna como sendo a média das três colunas, e dê a ela o nome de \"media\" (não recomendo colocar acentos em nomes de variáveis)."
      ]
    },
    {
      "cell_type": "code",
      "execution_count": 10,
      "metadata": {
        "colab": {
          "base_uri": "https://localhost:8080/"
        },
        "id": "5TMc9IonnqAh",
        "outputId": "f309846c-d0f2-4ed0-b73e-39db3d41b55e"
      },
      "outputs": [
        {
          "output_type": "stream",
          "name": "stdout",
          "text": [
            "            x1          x2          x3       media\n",
            "1    93.352040   88.255847   76.107430   85.905106\n",
            "2    98.375607   97.581440   92.824043   96.260363\n",
            "3   116.071268   84.613485   97.795685   99.493480\n",
            "4   121.590051   80.925853  105.804058  102.773321\n",
            "5   100.783488  103.786858  100.864988  101.811778\n",
            "6    89.748474  110.539749   99.429835   99.906019\n",
            "7   110.322136   82.865724  107.201003  100.129621\n",
            "8    81.546629   90.460220  117.641576   96.549475\n",
            "9    98.635410  110.249827   98.082646  102.322628\n",
            "10  102.167557  101.823289   94.976263   99.655703\n",
            "11  111.736047  116.372141   89.911716  106.006635\n",
            "12  104.903386   97.033528  101.447826  101.128247\n",
            "13  104.270205  114.270807  101.222407  106.587807\n",
            "14  107.853905  108.023914  114.393668  110.090495\n",
            "15   77.966091  116.016822  103.465644   99.149519\n",
            "16  109.338376   96.046695  101.028163  102.137745\n",
            "17  120.549332  107.193637   85.753717  104.498895\n",
            "18  128.473332   98.883502   91.550105  106.302313\n",
            "19   94.554249   91.140821  100.337517   95.344196\n",
            "20  103.620041  103.063923   81.705541   96.129835\n"
          ]
        }
      ],
      "source": [
        "#  ndarraymédia\n",
        "arr = np.random.normal(100, 10, (20, 3))\n",
        "\n",
        "# Transformar o ndarray em um DataFrame com índices e colunas nomeadas\n",
        "dataframe = pd.DataFrame(arr, columns=['x1', 'x2', 'x3'])\n",
        "dataframe.index = range(1, 21)  # Nomear os índices das linhas de 1 a 20\n",
        "\n",
        "# Adicionar a nova coluna \"media\"\n",
        "dataframe['media'] = dataframe.mean(axis=1)\n",
        "\n",
        "# Exibir o DataFrame com a nova coluna\n",
        "print(dataframe)"
      ]
    },
    {
      "cell_type": "markdown",
      "metadata": {
        "id": "Lt9DjSijnqAh"
      },
      "source": [
        "#### 7) No DataFrame do exercício 6, crie uma nova coluna chamada \"log_med\", contendo o logaritmo natural da média calculada no exercício 6 <br>"
      ]
    },
    {
      "cell_type": "code",
      "execution_count": 12,
      "metadata": {
        "colab": {
          "base_uri": "https://localhost:8080/"
        },
        "id": "ASjmo4utnqAi",
        "outputId": "b2cfbc62-c7ab-4223-bda9-3a3d970b5677"
      },
      "outputs": [
        {
          "output_type": "stream",
          "name": "stdout",
          "text": [
            "            x1          x2          x3       media   log_med\n",
            "1   101.574799  112.141215  113.541307  109.085774  4.692134\n",
            "2    74.395298   94.148264   91.545595   86.696386  4.462412\n",
            "3   110.628214  105.087869  108.382666  108.032917  4.682436\n",
            "4   100.234115  107.778022  106.340442  104.784193  4.651903\n",
            "5    72.247740   97.853402   92.414478   87.505207  4.471698\n",
            "6   101.267364  110.942056  109.080552  107.096657  4.673732\n",
            "7    97.966069   88.528694   99.498293   95.331019  4.557355\n",
            "8   107.348819  111.072675   72.540600   96.987365  4.574581\n",
            "9   108.014217   82.964543  116.344245  102.441001  4.629287\n",
            "10   88.070197  110.360700   99.096988   99.175962  4.596896\n",
            "11   94.211310  120.311075  110.491855  108.338080  4.685257\n",
            "12   97.025868   81.326012   96.365812   91.572564  4.517132\n",
            "13  115.982066   96.119537  107.361359  106.487654  4.668029\n",
            "14   92.866751  105.635459   80.290918   92.931043  4.531858\n",
            "15  117.919761  118.873745   89.234127  108.675878  4.688370\n",
            "16   96.965040   87.638273   95.228309   93.277207  4.535576\n",
            "17   73.335933  102.020802  114.943402   96.766712  4.572303\n",
            "18   91.121959   84.940335   98.117788   91.393361  4.515173\n",
            "19   92.226626   94.835643  109.314500   98.792256  4.593019\n",
            "20   93.017496   96.984534   92.874100   94.292043  4.546397\n"
          ]
        }
      ],
      "source": [
        "# ndarraylog_med\n",
        "arr = np.random.normal(100, 10, (20, 3))\n",
        "\n",
        "# Transformar o ndarray em um DataFrame com índices e colunas nomeadas\n",
        "dataframe = pd.DataFrame(arr, columns=['x1', 'x2', 'x3'])\n",
        "dataframe.index = range(1, 21)  # Nomear os índices das linhas de 1 a 20\n",
        "\n",
        "# Adicionar a nova coluna \"media\"\n",
        "dataframe['media'] = dataframe.mean(axis=1)\n",
        "\n",
        "# Adicionar a nova coluna \"log_med\"\n",
        "dataframe['log_med'] = np.log(dataframe['media'])\n",
        "\n",
        "# Exibir o DataFrame com as novas colunas\n",
        "print(dataframe)"
      ]
    }
  ],
  "metadata": {
    "kernelspec": {
      "display_name": "Python 3",
      "language": "python",
      "name": "python3"
    },
    "language_info": {
      "codemirror_mode": {
        "name": "ipython",
        "version": 3
      },
      "file_extension": ".py",
      "mimetype": "text/x-python",
      "name": "python",
      "nbconvert_exporter": "python",
      "pygments_lexer": "ipython3",
      "version": "3.8.5"
    },
    "colab": {
      "provenance": []
    }
  },
  "nbformat": 4,
  "nbformat_minor": 0
}